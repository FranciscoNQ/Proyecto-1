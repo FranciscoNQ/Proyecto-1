{
  "nbformat": 4,
  "nbformat_minor": 0,
  "metadata": {
    "colab": {
      "provenance": []
    },
    "kernelspec": {
      "name": "python3",
      "display_name": "Python 3"
    },
    "language_info": {
      "name": "python"
    }
  },
  "cells": [
    {
      "cell_type": "markdown",
      "source": [
        "**Fuente de Datos:**\n",
        "1.   [Inflacion] (https://www.indec.gob.ar/)\n",
        "2.   [Dolar Oficial] y [Salario Minimo]  (https://datos.gob.ar/)  "
      ],
      "metadata": {
        "id": "rAylCtocFW2-"
      }
    },
    {
      "cell_type": "markdown",
      "source": [
        "**Librerias, variables con informacion de los dataset y inicio de los dataframes**"
      ],
      "metadata": {
        "id": "WKmmPcWneo03"
      }
    },
    {
      "cell_type": "code",
      "source": [
        "#Librerias\n",
        "import pandas as pd\n",
        "from google.colab import data_table\n",
        "\n",
        "#Variable con ubicacion y nombre de los archivos\n",
        "path = \"/content/drive/MyDrive/Proyecto #4/\"\n",
        "archivo_salario_minimo = \"indice_salario_minimo.csv\"\n",
        "archivo_dolar = \"datos-tipo-cambio-usd-futuro-dolar-frecuencia-diaria.csv\"\n",
        "archivo_inflacion = \"serie_ipc_divisiones.csv\"\n",
        "\n",
        "#Convertimos en dataframes.\n",
        "df_1 = pd.read_csv(path+archivo_salario_minimo)\n",
        "df_2 = pd.read_csv(path+archivo_dolar)\n",
        "df_3 = pd.read_csv(path+archivo_inflacion, encoding=\"ISO-8859-1\", on_bad_lines = \"skip\", sep= \";\")#Utilizamos varios parametros para que pandas intente leer este desastre.\n",
        "                                                                                                  #La \"ISO-8859-1\" le decimos a pandas que este archivo contiene caracteres y acentos que no tiene el lenguaje ingles.\n",
        "                                                                                                  #Con las otras dos parametros le decimos que las lineas problematicas sean ignoradas y que use como separacion de columnas \";\"."
      ],
      "metadata": {
        "id": "scWB7PnzHyQq"
      },
      "execution_count": null,
      "outputs": []
    },
    {
      "cell_type": "markdown",
      "source": [
        "**Analizamos los dataframes**"
      ],
      "metadata": {
        "id": "FT2eM7WvmJce"
      }
    },
    {
      "cell_type": "code",
      "source": [
        "#Con .info() verificamos la informacion de los dataframes\n",
        "df_1.info()\n",
        "#df_2.info()\n",
        "#df_3.info()\n",
        "\n",
        "#Analizamos los dataframes\n",
        "data_table.DataTable(df_1)\n",
        "#data_table.DataTable(df_2)\n",
        "#data_table.DataTable(df_3)"
      ],
      "metadata": {
        "id": "UCWheQ8PiSJi"
      },
      "execution_count": null,
      "outputs": []
    },
    {
      "cell_type": "markdown",
      "source": [
        "**Limpieza dataframe #1**"
      ],
      "metadata": {
        "id": "A11jNcGurCo8"
      }
    },
    {
      "cell_type": "code",
      "source": [
        "#Filtramos el dataframe con las columnas que vamos a utilizar\n",
        "df_1 = df_1[[\"salario_minimo_vital_movil_mensual\", \"indice_tiempo\"]].copy() #Utilizamos .copy() para decirle a pandas que esta es una copia del original, aunque guardemos todo en la misma variable\n",
        "df_1[\"indice_tiempo\"] = pd.to_datetime(df_1[\"indice_tiempo\"]) #Le avisamos a pandas que esa columna es de fechas, que la interprete como tal\n",
        "df_1 = df_1[df_1[\"indice_tiempo\"] >= \"2016-12-01\"].copy()\n",
        "\n",
        "#Calculamos la diferencia mensual\n",
        "df_1.reset_index(drop=True, inplace=True)  #Reseteamos el indice para que empiece desde 0\n",
        "number_indice_final = 1\n",
        "number_indice_inicial = 0\n",
        "number_cantidad_filas = df_1[\"indice_tiempo\"].count() - 1 #En este variable se va guardar la cantidad de filas, se utilizara para terminar el loops de while.\n",
        "while number_indice_final <= number_cantidad_filas:\n",
        "   df_1.loc[number_indice_final, \"porcentaje mensual\"] = (\n",
        "                                                         (df_1.loc[number_indice_final, \"salario_minimo_vital_movil_mensual\"] - df_1.loc[number_indice_inicial, \"salario_minimo_vital_movil_mensual\"])/\n",
        "                                                          df_1.loc[number_indice_inicial, \"salario_minimo_vital_movil_mensual\"]*100)\n",
        "   number_indice_inicial += 1\n",
        "   number_indice_final += 1\n",
        "\n",
        "#Calculo de porcentaje acumulado\n",
        "df_1.loc[0, \"Acumulado %\"] = 100\n",
        "number_indice_final_1 = 1\n",
        "number_indice_inicial_1 = 0\n",
        "while number_indice_final_1 <= number_cantidad_filas:\n",
        "   df_1.loc[number_indice_final_1, \"Acumulado %\"] =  (df_1.loc[number_indice_inicial_1, \"Acumulado %\"] * df_1.loc[number_indice_final_1, \"porcentaje mensual\"]/100) + df_1.loc[number_indice_inicial_1, \"Acumulado %\"]\n",
        "   number_indice_inicial_1 += 1\n",
        "   number_indice_final_1 += 1\n",
        "\n",
        "#Dejamos los primeros 2 decimales\n",
        "df_1[\"porcentaje mensual\"]=df_1[\"porcentaje mensual\"].round(2)\n",
        "df_1[\"Acumulado %\"]=df_1[\"Acumulado %\"].round(2)\n",
        "\n",
        "#Modificamos la columna donde se encuentran la fecha, dejamos solamente año y mes.\n",
        "df_1[\"indice_tiempo\"] = df_1[\"indice_tiempo\"].dt.strftime(\"%Y-%m\")\n",
        "df_1 = df_1.loc[df_1[\"indice_tiempo\"] >= \"2017-01\"].copy() #Filtramos con determinada fecha en adelante\n",
        "\n",
        "#Borramos la columna de la fecha y reseteamos el indice.\n",
        "df_1.drop(\"indice_tiempo\", axis=1, inplace=True)\n",
        "df_1 = df_1.reset_index(drop=True)\n",
        "\n",
        "#Cambiamos los nombres de las columnas.\n",
        "df_1.rename(columns=\n",
        "                    {\"salario_minimo_vital_movil_mensual\" : \"Salario mínimo, vital y móvil\", \"porcentaje mensual\" : \"Salario - Variación mensual (%)\", \"Acumulado %\" : \"Salario - % acumulado\"}, inplace=True)\n"
      ],
      "metadata": {
        "id": "XtD0V2MWvx9R"
      },
      "execution_count": null,
      "outputs": []
    },
    {
      "cell_type": "markdown",
      "source": [
        "**Limpiezaz dataframe #2**\n"
      ],
      "metadata": {
        "id": "LObrBsOqADst"
      }
    },
    {
      "cell_type": "code",
      "source": [
        "#Filtramos el dataframe\n",
        "df_2[\"indice_tiempo\"] = pd.to_datetime(df_2[\"indice_tiempo\"]) #Convertimos a fecha\n",
        "df_2[\"Day\"] = df_2[\"indice_tiempo\"].dt.day #Creamos una nueva columna con solamente los dias para dps filtrar con las fechas de forma mensual del dia 1 de cada mas.\n",
        "df_2[\"indice_tiempo\"] = df_2[\"indice_tiempo\"].dt.strftime(\"%Y-%m\") #Dejamos solamente año y mes\n",
        "df_2 = df_2.loc[(df_2[\"indice_tiempo\"] >= \"2016-12\") & (df_2[\"Day\"]== 1)]#Filtramos por fecha y dia\n",
        "df_2 = df_2.reset_index(drop=True) #Reseteamos el indice\n",
        "\n",
        "#Calculo de diferencia, utilizando while para que pase por todas las filas de la columna\n",
        "number_indice_final =  1\n",
        "number_indice_inicial = 0\n",
        "number_cantidad_filas = df_2[\"indice_tiempo\"].count() - 1\n",
        "while number_indice_final <= number_cantidad_filas:\n",
        "    df_2.loc[number_indice_final, \"Dolar % mensual\"] = (\n",
        "                                                       (df_2.loc[number_indice_final, \"tipo_cambio_bna_vendedor\"] - df_2.loc[number_indice_inicial, \"tipo_cambio_bna_vendedor\"])/\n",
        "                                                        df_2.loc[number_indice_inicial, \"tipo_cambio_bna_vendedor\"]*100)\n",
        "    number_indice_final +=1\n",
        "    number_indice_inicial +=1\n",
        "#Calculo de porcentaje acumulado\n",
        "df_2.loc[0, \"% Acumulado\"] = 100\n",
        "number_indice_final =  1\n",
        "number_indice_inicial = 0\n",
        "while number_indice_final <= number_cantidad_filas:\n",
        "   df_2.loc[number_indice_final, \"% Acumulado\"] =  (df_2.loc[number_indice_inicial, \"% Acumulado\"] * df_2.loc[number_indice_final, \"Dolar % mensual\"]/100) + df_2.loc[number_indice_inicial, \"% Acumulado\"]\n",
        "   number_indice_inicial += 1\n",
        "   number_indice_final += 1\n",
        "\n",
        "#Dejamos los primeros 2 decimales\n",
        "df_2[\"Dolar % mensual\"]=df_2[\"Dolar % mensual\"].round(2)\n",
        "df_2[\"% Acumulado\"]=df_2[\"% Acumulado\"].round(2)\n",
        "\n",
        "#Filtramos columnas y fecha\n",
        "df_2 = df_2.loc[df_2[\"indice_tiempo\"] >= \"2017-01\"]\n",
        "df_2 = df_2[[\"tipo_cambio_bna_vendedor\", \"Dolar % mensual\", \"% Acumulado\"]]\n",
        "df_2 = df_2.reset_index(drop=True) #Reset indice\n",
        "\n",
        "#Cambiamos los nombres a las columnas\n",
        "df_2.rename(columns=\n",
        "                 {\"tipo_cambio_bna_vendedor\": \"Dólar oficial\", \"Dolar % mensual\" : \"Dólar - Variación mensual (%)\", \"% Acumulado\" : \"Dólar - % acumulado\"}, inplace=True)"
      ],
      "metadata": {
        "id": "LVdwzyOB_-OB"
      },
      "execution_count": null,
      "outputs": []
    },
    {
      "cell_type": "markdown",
      "source": [
        "**Limpieza dataframe #3**"
      ],
      "metadata": {
        "id": "F42Yz3zKAGPP"
      }
    },
    {
      "cell_type": "code",
      "source": [
        "#Filtramos el dataframe\n",
        "df_3 = df_3[(df_3[\"Region\"]==\"Nacional\") & (df_3[\"Descripcion\"]==\"NIVEL GENERAL\")] #filtramos las filas que vamos a necesitar\n",
        "df_3 = df_3[[\"Periodo\",\"Indice_IPC\", \"v_m_IPC\"]] ##Dejamos las columnas que vamos a usar\n",
        "df_3[\"Periodo\"] = df_3[\"Periodo\"].astype(str) #Convertimos de int a string\n",
        "df_3[\"año\"] = df_3[\"Periodo\"].str[:4]  #Creamos una columna vamos a guardar los primeros 4 strings de esta columna\n",
        "df_3[\"mes\"] = df_3[\"Periodo\"].str[4:]  #Creamos otra columna donde se guardara los ultimos 2\n",
        "df_3[\"indice_tiempo\"] = df_3[\"año\"] + \"-\" +df_3[\"mes\"] #Creamos una columna donse sumaremos los strings para crear la fecha, ademas de agregar el separador.\n",
        "df_3[\"indice_tiempo\"] = df_3[\"indice_tiempo\"] + \"-01\" #Le agregamos el primer dia de cada mes\n",
        "df_3.drop([\"Periodo\", \"año\", \"mes\"], axis=1, inplace=True) #Borramos las columnas que no vamos a usar\n",
        "df_3[\"indice_tiempo\"] = pd.to_datetime(df_3[\"indice_tiempo\"])\n",
        "df_3 = df_3.loc[df_3[\"indice_tiempo\"] >= \"2017-01\"]\n",
        "\n",
        "#Reemplazamos los \",\" por \".\", esto se debe a que python reconoce como separador de decimal al \".\" no la \",\". Se puede dejar con \",\" pero en este caso vamos hacer calculos.\n",
        "df_3[\"Indice_IPC\"] = df_3[\"Indice_IPC\"].str.replace(\",\", \".\")\n",
        "df_3[\"v_m_IPC\"] = df_3[\"v_m_IPC\"].str.replace(\",\", \".\")\n",
        "\n",
        "#Cambiamos el formato a numero flotante\n",
        "df_3[\"Indice_IPC\"] = df_3[\"Indice_IPC\"].astype(float)\n",
        "df_3[\"v_m_IPC\"] = df_3[\"v_m_IPC\"].astype(float)\n",
        "df_3 = df_3.reset_index(drop=True) #reseteamos indice\n",
        "\n",
        "#Cambiamos los nombres a las columnas\n",
        "df_3.rename(columns=\n",
        "                 {\"indice_tiempo\": \"Fecha\", \"Indice_IPC\" :\"Inflación acumulada (%)\", \"v_m_IPC\": \"Inflación mensual (%)\"}, inplace=True)\n"
      ],
      "metadata": {
        "id": "fqM5OCn8_-Wk"
      },
      "execution_count": null,
      "outputs": []
    },
    {
      "cell_type": "markdown",
      "source": [
        "**Union, orden y guardado del dataframes**"
      ],
      "metadata": {
        "id": "EZ3yS77eLFR9"
      }
    },
    {
      "cell_type": "code",
      "source": [
        "#Unimos los dataframes\n",
        "df = pd.concat([df_1, df_2, df_3], axis=1)\n",
        "\n",
        "#Creamos una variable la ultima fecha del dataframe, se utlizara para el informe final.\n",
        "cantidad_de_filas = df[\"Fecha\"].count() - 1\n",
        "ultima_fecha = df.loc[cantidad_de_filas, \"Fecha\"]\n",
        "ultima_fecha = str(ultima_fecha)\n",
        "ultima_fecha = ultima_fecha[:10]\n",
        "\n",
        "#Convertimos fecha como indice\n",
        "df.set_index(\"Fecha\", inplace=True)\n",
        "\n",
        "#Ordenamos las columnas\n",
        "columns = [\"Salario mínimo, vital y móvil\", \"Salario - Variación mensual (%)\", \"Salario - % acumulado\", \"Dólar oficial\", \"Dólar - Variación mensual (%)\", \"Dólar - % acumulado\",\n",
        "           \"Inflación mensual (%)\", \"Inflación acumulada (%)\"]\n",
        "df = df[columns]\n",
        "\n",
        "#Lo guardamos en formato csv en la nube de google\n",
        "#df.to_csv(path+\"Proyecto_4_1.csv\")"
      ],
      "metadata": {
        "id": "6DYdRbTYBiQq"
      },
      "execution_count": null,
      "outputs": []
    },
    {
      "cell_type": "markdown",
      "source": [
        "**Calculos de diferencia entre salarios, inflacion y dolar**"
      ],
      "metadata": {
        "id": "fWBWE0daEu9i"
      }
    },
    {
      "cell_type": "code",
      "source": [
        "#Creamos variables con los datos mas recientes\n",
        "salario = df.loc[:,\"Salario - % acumulado\"].iloc[cantidad_de_filas]\n",
        "inflacion = df.loc[:,\"Inflación acumulada (%)\"].iloc[cantidad_de_filas]\n",
        "dolar = df.loc[:, \"Dólar - % acumulado\"].iloc[cantidad_de_filas]\n",
        "\n",
        "#Calculamos la diferencia\n",
        "diferencia_salario_x_inflacion = (inflacion - salario) / salario * 100\n",
        "diferencia_salario_x_dolar = (dolar - salario) / salario * 100\n",
        "\n",
        "#Redondeamos los decimales\n",
        "diferencia_salario_x_inflacion = diferencia_salario_x_inflacion.round(2)\n",
        "diferencia_salario_x_dolar = diferencia_salario_x_dolar.round(2)\n"
      ],
      "metadata": {
        "id": "7WzmVypHEypi"
      },
      "execution_count": null,
      "outputs": []
    },
    {
      "cell_type": "markdown",
      "source": [
        "Conclusion"
      ],
      "metadata": {
        "id": "KxaJaOxP6UTW"
      }
    },
    {
      "cell_type": "code",
      "source": [
        "print(\"Ultima actualizacion:\", ultima_fecha)\n",
        "print(\"* Salario acumulado:\", salario, \"%\")\n",
        "print(\"* Inflacion acumulada:\", inflacion, \"%\")\n",
        "print(\"* Dolar acumulado:\", dolar, \"%\")\n",
        "print(\"\\nEl salario mínimo creció un\",diferencia_salario_x_inflacion,\"% menos que la inflación y un\",diferencia_salario_x_dolar ,\"% menos que el dólar oficial en el mismo período (2017-01-01 a\",ultima_fecha+\")\"\", \\\n",
        "lo que evidencia una pérdida del poder adquisitivo frente a ambos indicadores.\")"
      ],
      "metadata": {
        "colab": {
          "base_uri": "https://localhost:8080/"
        },
        "id": "n78e5dfF-C7t",
        "outputId": "43d9a81c-4388-4f65-e88d-b0891b4c64c7"
      },
      "execution_count": null,
      "outputs": [
        {
          "output_type": "stream",
          "name": "stdout",
          "text": [
            "Ultima actualizacion: 2025-03-01\n",
            "* Salario acumulado: 3926.35 %\n",
            "* Inflacion acumulada: 8353.3158 %\n",
            "* Dolar acumulado: 6755.45 %\n",
            "\n",
            "El salario mínimo creció un 112.75 % menos que la inflación y un 72.05 % menos que el dólar oficial en el mismo período (2017-01-01 a 2025-03-01), lo que evidencia una pérdida del poder adquisitivo frente a ambos indicadores.\n"
          ]
        }
      ]
    }
  ]
}